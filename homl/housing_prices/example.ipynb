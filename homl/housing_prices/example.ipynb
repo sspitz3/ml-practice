{
  "nbformat": 4,
  "nbformat_minor": 0,
  "metadata": {
    "colab": {
      "provenance": [],
      "authorship_tag": "ABX9TyM+ADuR09UuhwN/HErjrhAh",
      "include_colab_link": true
    },
    "kernelspec": {
      "name": "python3",
      "display_name": "Python 3"
    },
    "language_info": {
      "name": "python"
    }
  },
  "cells": [
    {
      "cell_type": "markdown",
      "metadata": {
        "id": "view-in-github",
        "colab_type": "text"
      },
      "source": [
        "<a href=\"https://colab.research.google.com/github/sspitz3/ml-practice/blob/main/homl/housing_prices/example.ipynb\" target=\"_parent\"><img src=\"https://colab.research.google.com/assets/colab-badge.svg\" alt=\"Open In Colab\"/></a>"
      ]
    },
    {
      "cell_type": "markdown",
      "source": [
        "Housing Prices Example"
      ],
      "metadata": {
        "id": "DQoLWC-dqojv"
      }
    },
    {
      "cell_type": "markdown",
      "source": [
        "## Load Data"
      ],
      "metadata": {
        "id": "s02MFTCUByEp"
      }
    },
    {
      "cell_type": "code",
      "source": [
        "import requests\n",
        "import tarfile\n",
        "import pandas as pd\n",
        "\n",
        "\n",
        "def load_data(url):\n",
        "  r = requests.get(url)\n",
        "  with open(\"rawdata.tgz\", \"wb\") as f:\n",
        "    f.write(r.content)\n",
        "  with tarfile.open(\"rawdata.tgz\", \"r\") as f:\n",
        "    f.extractall(\"datasets\")\n",
        "\n",
        "  return pd.read_csv(\"datasets/housing/housing.csv\")\n",
        "\n",
        "\n",
        "data = load_data(\"https://github.com/ageron/data/raw/main/housing.tgz\")"
      ],
      "metadata": {
        "id": "vVVkyjqJBwlT"
      },
      "execution_count": 3,
      "outputs": []
    },
    {
      "cell_type": "markdown",
      "source": [
        "## Splitting"
      ],
      "metadata": {
        "id": "c5vbMTVxFvxe"
      }
    },
    {
      "cell_type": "code",
      "source": [
        "from sklearn.model_selection import train_test_split\n",
        "\n",
        "X = data.drop(\"median_house_value\", axis=1)\n",
        "y = data[\"median_house_value\"]\n",
        "\n",
        "X_train, X_test, y_train, y_test = train_test_split(X, y, test_size=0.2)"
      ],
      "metadata": {
        "id": "1VpzNevrFvUn"
      },
      "execution_count": 28,
      "outputs": []
    },
    {
      "cell_type": "markdown",
      "source": [
        "## Preprocessing"
      ],
      "metadata": {
        "id": "97uIQOA0CkMa"
      }
    },
    {
      "cell_type": "code",
      "source": [
        "from sklearn.impute import SimpleImputer\n",
        "from sklearn.preprocessing import OneHotEncoder, StandardScaler, FunctionTransformer\n",
        "from sklearn.pipeline import make_pipeline\n",
        "from sklearn.compose import ColumnTransformer\n",
        "import numpy as np\n",
        "\n",
        "\n",
        "log_pipeline = make_pipeline(SimpleImputer(strategy='median'), FunctionTransformer(np.log), StandardScaler())\n",
        "ratio_pipeline = make_pipeline(SimpleImputer(strategy=\"median\"), FunctionTransformer(lambda x: x[:, [0]] / x[:, [1]]), StandardScaler())\n",
        "cat_pipeline = make_pipeline(SimpleImputer(strategy=\"most_frequent\"), OneHotEncoder())\n",
        "\n",
        "preprocessing = ColumnTransformer([\n",
        "    (\"bedrooms\", ratio_pipeline, [\"total_bedrooms\", \"households\"]),\n",
        "    (\"rooms_per_house\", ratio_pipeline, [\"total_rooms\", \"households\"]),\n",
        "    (\"people_per_house\", ratio_pipeline, [\"population\", \"households\"]),\n",
        "    (\"log\", log_pipeline, [\"total_bedrooms\", \"total_rooms\", \"population\", \"households\", \"median_income\"]),\n",
        "    (\"cat\", cat_pipeline, [\"ocean_proximity\"])\n",
        "])"
      ],
      "metadata": {
        "id": "QEjv8t7Tqhwk"
      },
      "execution_count": 21,
      "outputs": []
    },
    {
      "cell_type": "code",
      "source": [
        "preprocessing.fit_transform(X_train)"
      ],
      "metadata": {
        "id": "6lDzz3akDE-r",
        "outputId": "ed26aa4c-2c12-4cc2-87fd-55691abc467a",
        "colab": {
          "base_uri": "https://localhost:8080/"
        }
      },
      "execution_count": 29,
      "outputs": [
        {
          "output_type": "execute_result",
          "data": {
            "text/plain": [
              "array([[-0.10655541,  0.24193354, -0.06077974, ...,  0.        ,\n",
              "         0.        ,  0.        ],\n",
              "       [ 0.09215342,  0.17140969,  0.06973988, ...,  0.        ,\n",
              "         0.        ,  0.        ],\n",
              "       [-0.19714243,  0.2417236 , -0.07156244, ...,  0.        ,\n",
              "         0.        ,  0.        ],\n",
              "       ...,\n",
              "       [ 0.74957692,  0.5869686 , -0.03089537, ...,  0.        ,\n",
              "         0.        ,  0.        ],\n",
              "       [-0.01214683,  0.04270974, -0.08670236, ...,  0.        ,\n",
              "         1.        ,  0.        ],\n",
              "       [-0.3087774 , -0.31326269,  0.00959688, ...,  0.        ,\n",
              "         0.        ,  0.        ]])"
            ]
          },
          "metadata": {},
          "execution_count": 29
        }
      ]
    },
    {
      "cell_type": "markdown",
      "source": [
        "## Fit Models"
      ],
      "metadata": {
        "id": "6PYWUBAGGU1F"
      }
    },
    {
      "cell_type": "code",
      "source": [
        "from sklearn.linear_model import LinearRegression\n",
        "from sklearn.metrics import mean_squared_error\n",
        "\n",
        "lin_reg = make_pipeline(preprocessing, LinearRegression())\n",
        "\n",
        "lin_reg.fit(X_train, y_train)\n",
        "\n",
        "mean_squared_error(lin_reg.predict(X_train), y_train, squared=False)"
      ],
      "metadata": {
        "id": "0mIPMHIiGUim",
        "outputId": "f12e2cac-2f6e-4489-b9fb-0e4ad4db34c9",
        "colab": {
          "base_uri": "https://localhost:8080/"
        }
      },
      "execution_count": 50,
      "outputs": [
        {
          "output_type": "execute_result",
          "data": {
            "text/plain": [
              "73489.28506854447"
            ]
          },
          "metadata": {},
          "execution_count": 50
        }
      ]
    },
    {
      "cell_type": "code",
      "source": [
        "lin_reg.predict(X_train)"
      ],
      "metadata": {
        "id": "ZEbqLyysCs3I",
        "outputId": "b1c971a0-595e-4974-ea65-b613e3f519f4",
        "colab": {
          "base_uri": "https://localhost:8080/"
        }
      },
      "execution_count": 48,
      "outputs": [
        {
          "output_type": "execute_result",
          "data": {
            "text/plain": [
              "array([273239.7607379 , 107601.65794956, 359428.42364554, ...,\n",
              "       150771.61134137, 327999.21247288, 255267.20455991])"
            ]
          },
          "metadata": {},
          "execution_count": 48
        }
      ]
    },
    {
      "cell_type": "code",
      "source": [
        "from sklearn.model_selection import cross_val_score\n",
        "\n",
        "cross_val_score(lin_reg, X_train, y_train, scoring='neg_root_mean_squared_error', cv=3)"
      ],
      "metadata": {
        "id": "lGuxt516GomL",
        "outputId": "627f476d-c31f-4079-ce33-d6837c6cd45c",
        "colab": {
          "base_uri": "https://localhost:8080/"
        }
      },
      "execution_count": 58,
      "outputs": [
        {
          "output_type": "execute_result",
          "data": {
            "text/plain": [
              "array([-74662.50779645, -78961.91799587, -72331.65274316])"
            ]
          },
          "metadata": {},
          "execution_count": 58
        }
      ]
    },
    {
      "cell_type": "code",
      "source": [
        "lin_reg.get_params()"
      ],
      "metadata": {
        "id": "S8rQkLUEHv57",
        "outputId": "4c8ffb84-dffc-4dfc-934d-9dfced6c1aa3",
        "colab": {
          "base_uri": "https://localhost:8080/"
        }
      },
      "execution_count": 59,
      "outputs": [
        {
          "output_type": "execute_result",
          "data": {
            "text/plain": [
              "{'memory': None,\n",
              " 'steps': [('columntransformer',\n",
              "   ColumnTransformer(transformers=[('bedrooms',\n",
              "                                    Pipeline(steps=[('simpleimputer',\n",
              "                                                     SimpleImputer(strategy='median')),\n",
              "                                                    ('functiontransformer',\n",
              "                                                     FunctionTransformer(func=<function <lambda> at 0x7d28bb714e50>)),\n",
              "                                                    ('standardscaler',\n",
              "                                                     StandardScaler())]),\n",
              "                                    ['total_bedrooms', 'households']),\n",
              "                                   ('rooms_per_house',\n",
              "                                    Pipeline(steps=[('simpleimputer',\n",
              "                                                     SimpleImputer(strategy='median'...\n",
              "                                                     SimpleImputer(strategy='median')),\n",
              "                                                    ('functiontransformer',\n",
              "                                                     FunctionTransformer(func=<ufunc 'log'>)),\n",
              "                                                    ('standardscaler',\n",
              "                                                     StandardScaler())]),\n",
              "                                    ['total_bedrooms', 'total_rooms', 'population',\n",
              "                                     'households', 'median_income']),\n",
              "                                   ('cat',\n",
              "                                    Pipeline(steps=[('simpleimputer',\n",
              "                                                     SimpleImputer(strategy='most_frequent')),\n",
              "                                                    ('onehotencoder',\n",
              "                                                     OneHotEncoder())]),\n",
              "                                    ['ocean_proximity'])])),\n",
              "  ('linearregression', LinearRegression())],\n",
              " 'verbose': False,\n",
              " 'columntransformer': ColumnTransformer(transformers=[('bedrooms',\n",
              "                                  Pipeline(steps=[('simpleimputer',\n",
              "                                                   SimpleImputer(strategy='median')),\n",
              "                                                  ('functiontransformer',\n",
              "                                                   FunctionTransformer(func=<function <lambda> at 0x7d28bb714e50>)),\n",
              "                                                  ('standardscaler',\n",
              "                                                   StandardScaler())]),\n",
              "                                  ['total_bedrooms', 'households']),\n",
              "                                 ('rooms_per_house',\n",
              "                                  Pipeline(steps=[('simpleimputer',\n",
              "                                                   SimpleImputer(strategy='median'...\n",
              "                                                   SimpleImputer(strategy='median')),\n",
              "                                                  ('functiontransformer',\n",
              "                                                   FunctionTransformer(func=<ufunc 'log'>)),\n",
              "                                                  ('standardscaler',\n",
              "                                                   StandardScaler())]),\n",
              "                                  ['total_bedrooms', 'total_rooms', 'population',\n",
              "                                   'households', 'median_income']),\n",
              "                                 ('cat',\n",
              "                                  Pipeline(steps=[('simpleimputer',\n",
              "                                                   SimpleImputer(strategy='most_frequent')),\n",
              "                                                  ('onehotencoder',\n",
              "                                                   OneHotEncoder())]),\n",
              "                                  ['ocean_proximity'])]),\n",
              " 'linearregression': LinearRegression(),\n",
              " 'columntransformer__n_jobs': None,\n",
              " 'columntransformer__remainder': 'drop',\n",
              " 'columntransformer__sparse_threshold': 0.3,\n",
              " 'columntransformer__transformer_weights': None,\n",
              " 'columntransformer__transformers': [('bedrooms',\n",
              "   Pipeline(steps=[('simpleimputer', SimpleImputer(strategy='median')),\n",
              "                   ('functiontransformer',\n",
              "                    FunctionTransformer(func=<function <lambda> at 0x7d28bb714e50>)),\n",
              "                   ('standardscaler', StandardScaler())]),\n",
              "   ['total_bedrooms', 'households']),\n",
              "  ('rooms_per_house',\n",
              "   Pipeline(steps=[('simpleimputer', SimpleImputer(strategy='median')),\n",
              "                   ('functiontransformer',\n",
              "                    FunctionTransformer(func=<function <lambda> at 0x7d28bb714e50>)),\n",
              "                   ('standardscaler', StandardScaler())]),\n",
              "   ['total_rooms', 'households']),\n",
              "  ('people_per_house',\n",
              "   Pipeline(steps=[('simpleimputer', SimpleImputer(strategy='median')),\n",
              "                   ('functiontransformer',\n",
              "                    FunctionTransformer(func=<function <lambda> at 0x7d28bb714e50>)),\n",
              "                   ('standardscaler', StandardScaler())]),\n",
              "   ['population', 'households']),\n",
              "  ('log',\n",
              "   Pipeline(steps=[('simpleimputer', SimpleImputer(strategy='median')),\n",
              "                   ('functiontransformer',\n",
              "                    FunctionTransformer(func=<ufunc 'log'>)),\n",
              "                   ('standardscaler', StandardScaler())]),\n",
              "   ['total_bedrooms',\n",
              "    'total_rooms',\n",
              "    'population',\n",
              "    'households',\n",
              "    'median_income']),\n",
              "  ('cat',\n",
              "   Pipeline(steps=[('simpleimputer', SimpleImputer(strategy='most_frequent')),\n",
              "                   ('onehotencoder', OneHotEncoder())]),\n",
              "   ['ocean_proximity'])],\n",
              " 'columntransformer__verbose': False,\n",
              " 'columntransformer__verbose_feature_names_out': True,\n",
              " 'columntransformer__bedrooms': Pipeline(steps=[('simpleimputer', SimpleImputer(strategy='median')),\n",
              "                 ('functiontransformer',\n",
              "                  FunctionTransformer(func=<function <lambda> at 0x7d28bb714e50>)),\n",
              "                 ('standardscaler', StandardScaler())]),\n",
              " 'columntransformer__rooms_per_house': Pipeline(steps=[('simpleimputer', SimpleImputer(strategy='median')),\n",
              "                 ('functiontransformer',\n",
              "                  FunctionTransformer(func=<function <lambda> at 0x7d28bb714e50>)),\n",
              "                 ('standardscaler', StandardScaler())]),\n",
              " 'columntransformer__people_per_house': Pipeline(steps=[('simpleimputer', SimpleImputer(strategy='median')),\n",
              "                 ('functiontransformer',\n",
              "                  FunctionTransformer(func=<function <lambda> at 0x7d28bb714e50>)),\n",
              "                 ('standardscaler', StandardScaler())]),\n",
              " 'columntransformer__log': Pipeline(steps=[('simpleimputer', SimpleImputer(strategy='median')),\n",
              "                 ('functiontransformer',\n",
              "                  FunctionTransformer(func=<ufunc 'log'>)),\n",
              "                 ('standardscaler', StandardScaler())]),\n",
              " 'columntransformer__cat': Pipeline(steps=[('simpleimputer', SimpleImputer(strategy='most_frequent')),\n",
              "                 ('onehotencoder', OneHotEncoder())]),\n",
              " 'columntransformer__bedrooms__memory': None,\n",
              " 'columntransformer__bedrooms__steps': [('simpleimputer',\n",
              "   SimpleImputer(strategy='median')),\n",
              "  ('functiontransformer',\n",
              "   FunctionTransformer(func=<function <lambda> at 0x7d28bb714e50>)),\n",
              "  ('standardscaler', StandardScaler())],\n",
              " 'columntransformer__bedrooms__verbose': False,\n",
              " 'columntransformer__bedrooms__simpleimputer': SimpleImputer(strategy='median'),\n",
              " 'columntransformer__bedrooms__functiontransformer': FunctionTransformer(func=<function <lambda> at 0x7d28bb714e50>),\n",
              " 'columntransformer__bedrooms__standardscaler': StandardScaler(),\n",
              " 'columntransformer__bedrooms__simpleimputer__add_indicator': False,\n",
              " 'columntransformer__bedrooms__simpleimputer__copy': True,\n",
              " 'columntransformer__bedrooms__simpleimputer__fill_value': None,\n",
              " 'columntransformer__bedrooms__simpleimputer__keep_empty_features': False,\n",
              " 'columntransformer__bedrooms__simpleimputer__missing_values': nan,\n",
              " 'columntransformer__bedrooms__simpleimputer__strategy': 'median',\n",
              " 'columntransformer__bedrooms__simpleimputer__verbose': 'deprecated',\n",
              " 'columntransformer__bedrooms__functiontransformer__accept_sparse': False,\n",
              " 'columntransformer__bedrooms__functiontransformer__check_inverse': True,\n",
              " 'columntransformer__bedrooms__functiontransformer__feature_names_out': None,\n",
              " 'columntransformer__bedrooms__functiontransformer__func': <function __main__.<lambda>(x)>,\n",
              " 'columntransformer__bedrooms__functiontransformer__inv_kw_args': None,\n",
              " 'columntransformer__bedrooms__functiontransformer__inverse_func': None,\n",
              " 'columntransformer__bedrooms__functiontransformer__kw_args': None,\n",
              " 'columntransformer__bedrooms__functiontransformer__validate': False,\n",
              " 'columntransformer__bedrooms__standardscaler__copy': True,\n",
              " 'columntransformer__bedrooms__standardscaler__with_mean': True,\n",
              " 'columntransformer__bedrooms__standardscaler__with_std': True,\n",
              " 'columntransformer__rooms_per_house__memory': None,\n",
              " 'columntransformer__rooms_per_house__steps': [('simpleimputer',\n",
              "   SimpleImputer(strategy='median')),\n",
              "  ('functiontransformer',\n",
              "   FunctionTransformer(func=<function <lambda> at 0x7d28bb714e50>)),\n",
              "  ('standardscaler', StandardScaler())],\n",
              " 'columntransformer__rooms_per_house__verbose': False,\n",
              " 'columntransformer__rooms_per_house__simpleimputer': SimpleImputer(strategy='median'),\n",
              " 'columntransformer__rooms_per_house__functiontransformer': FunctionTransformer(func=<function <lambda> at 0x7d28bb714e50>),\n",
              " 'columntransformer__rooms_per_house__standardscaler': StandardScaler(),\n",
              " 'columntransformer__rooms_per_house__simpleimputer__add_indicator': False,\n",
              " 'columntransformer__rooms_per_house__simpleimputer__copy': True,\n",
              " 'columntransformer__rooms_per_house__simpleimputer__fill_value': None,\n",
              " 'columntransformer__rooms_per_house__simpleimputer__keep_empty_features': False,\n",
              " 'columntransformer__rooms_per_house__simpleimputer__missing_values': nan,\n",
              " 'columntransformer__rooms_per_house__simpleimputer__strategy': 'median',\n",
              " 'columntransformer__rooms_per_house__simpleimputer__verbose': 'deprecated',\n",
              " 'columntransformer__rooms_per_house__functiontransformer__accept_sparse': False,\n",
              " 'columntransformer__rooms_per_house__functiontransformer__check_inverse': True,\n",
              " 'columntransformer__rooms_per_house__functiontransformer__feature_names_out': None,\n",
              " 'columntransformer__rooms_per_house__functiontransformer__func': <function __main__.<lambda>(x)>,\n",
              " 'columntransformer__rooms_per_house__functiontransformer__inv_kw_args': None,\n",
              " 'columntransformer__rooms_per_house__functiontransformer__inverse_func': None,\n",
              " 'columntransformer__rooms_per_house__functiontransformer__kw_args': None,\n",
              " 'columntransformer__rooms_per_house__functiontransformer__validate': False,\n",
              " 'columntransformer__rooms_per_house__standardscaler__copy': True,\n",
              " 'columntransformer__rooms_per_house__standardscaler__with_mean': True,\n",
              " 'columntransformer__rooms_per_house__standardscaler__with_std': True,\n",
              " 'columntransformer__people_per_house__memory': None,\n",
              " 'columntransformer__people_per_house__steps': [('simpleimputer',\n",
              "   SimpleImputer(strategy='median')),\n",
              "  ('functiontransformer',\n",
              "   FunctionTransformer(func=<function <lambda> at 0x7d28bb714e50>)),\n",
              "  ('standardscaler', StandardScaler())],\n",
              " 'columntransformer__people_per_house__verbose': False,\n",
              " 'columntransformer__people_per_house__simpleimputer': SimpleImputer(strategy='median'),\n",
              " 'columntransformer__people_per_house__functiontransformer': FunctionTransformer(func=<function <lambda> at 0x7d28bb714e50>),\n",
              " 'columntransformer__people_per_house__standardscaler': StandardScaler(),\n",
              " 'columntransformer__people_per_house__simpleimputer__add_indicator': False,\n",
              " 'columntransformer__people_per_house__simpleimputer__copy': True,\n",
              " 'columntransformer__people_per_house__simpleimputer__fill_value': None,\n",
              " 'columntransformer__people_per_house__simpleimputer__keep_empty_features': False,\n",
              " 'columntransformer__people_per_house__simpleimputer__missing_values': nan,\n",
              " 'columntransformer__people_per_house__simpleimputer__strategy': 'median',\n",
              " 'columntransformer__people_per_house__simpleimputer__verbose': 'deprecated',\n",
              " 'columntransformer__people_per_house__functiontransformer__accept_sparse': False,\n",
              " 'columntransformer__people_per_house__functiontransformer__check_inverse': True,\n",
              " 'columntransformer__people_per_house__functiontransformer__feature_names_out': None,\n",
              " 'columntransformer__people_per_house__functiontransformer__func': <function __main__.<lambda>(x)>,\n",
              " 'columntransformer__people_per_house__functiontransformer__inv_kw_args': None,\n",
              " 'columntransformer__people_per_house__functiontransformer__inverse_func': None,\n",
              " 'columntransformer__people_per_house__functiontransformer__kw_args': None,\n",
              " 'columntransformer__people_per_house__functiontransformer__validate': False,\n",
              " 'columntransformer__people_per_house__standardscaler__copy': True,\n",
              " 'columntransformer__people_per_house__standardscaler__with_mean': True,\n",
              " 'columntransformer__people_per_house__standardscaler__with_std': True,\n",
              " 'columntransformer__log__memory': None,\n",
              " 'columntransformer__log__steps': [('simpleimputer',\n",
              "   SimpleImputer(strategy='median')),\n",
              "  ('functiontransformer', FunctionTransformer(func=<ufunc 'log'>)),\n",
              "  ('standardscaler', StandardScaler())],\n",
              " 'columntransformer__log__verbose': False,\n",
              " 'columntransformer__log__simpleimputer': SimpleImputer(strategy='median'),\n",
              " 'columntransformer__log__functiontransformer': FunctionTransformer(func=<ufunc 'log'>),\n",
              " 'columntransformer__log__standardscaler': StandardScaler(),\n",
              " 'columntransformer__log__simpleimputer__add_indicator': False,\n",
              " 'columntransformer__log__simpleimputer__copy': True,\n",
              " 'columntransformer__log__simpleimputer__fill_value': None,\n",
              " 'columntransformer__log__simpleimputer__keep_empty_features': False,\n",
              " 'columntransformer__log__simpleimputer__missing_values': nan,\n",
              " 'columntransformer__log__simpleimputer__strategy': 'median',\n",
              " 'columntransformer__log__simpleimputer__verbose': 'deprecated',\n",
              " 'columntransformer__log__functiontransformer__accept_sparse': False,\n",
              " 'columntransformer__log__functiontransformer__check_inverse': True,\n",
              " 'columntransformer__log__functiontransformer__feature_names_out': None,\n",
              " 'columntransformer__log__functiontransformer__func': <ufunc 'log'>,\n",
              " 'columntransformer__log__functiontransformer__inv_kw_args': None,\n",
              " 'columntransformer__log__functiontransformer__inverse_func': None,\n",
              " 'columntransformer__log__functiontransformer__kw_args': None,\n",
              " 'columntransformer__log__functiontransformer__validate': False,\n",
              " 'columntransformer__log__standardscaler__copy': True,\n",
              " 'columntransformer__log__standardscaler__with_mean': True,\n",
              " 'columntransformer__log__standardscaler__with_std': True,\n",
              " 'columntransformer__cat__memory': None,\n",
              " 'columntransformer__cat__steps': [('simpleimputer',\n",
              "   SimpleImputer(strategy='most_frequent')),\n",
              "  ('onehotencoder', OneHotEncoder())],\n",
              " 'columntransformer__cat__verbose': False,\n",
              " 'columntransformer__cat__simpleimputer': SimpleImputer(strategy='most_frequent'),\n",
              " 'columntransformer__cat__onehotencoder': OneHotEncoder(),\n",
              " 'columntransformer__cat__simpleimputer__add_indicator': False,\n",
              " 'columntransformer__cat__simpleimputer__copy': True,\n",
              " 'columntransformer__cat__simpleimputer__fill_value': None,\n",
              " 'columntransformer__cat__simpleimputer__keep_empty_features': False,\n",
              " 'columntransformer__cat__simpleimputer__missing_values': nan,\n",
              " 'columntransformer__cat__simpleimputer__strategy': 'most_frequent',\n",
              " 'columntransformer__cat__simpleimputer__verbose': 'deprecated',\n",
              " 'columntransformer__cat__onehotencoder__categories': 'auto',\n",
              " 'columntransformer__cat__onehotencoder__drop': None,\n",
              " 'columntransformer__cat__onehotencoder__dtype': numpy.float64,\n",
              " 'columntransformer__cat__onehotencoder__handle_unknown': 'error',\n",
              " 'columntransformer__cat__onehotencoder__max_categories': None,\n",
              " 'columntransformer__cat__onehotencoder__min_frequency': None,\n",
              " 'columntransformer__cat__onehotencoder__sparse': 'deprecated',\n",
              " 'columntransformer__cat__onehotencoder__sparse_output': True,\n",
              " 'linearregression__copy_X': True,\n",
              " 'linearregression__fit_intercept': True,\n",
              " 'linearregression__n_jobs': None,\n",
              " 'linearregression__positive': False}"
            ]
          },
          "metadata": {},
          "execution_count": 59
        }
      ]
    },
    {
      "cell_type": "code",
      "source": [],
      "metadata": {
        "id": "bgOyk0IIIdfp"
      },
      "execution_count": null,
      "outputs": []
    }
  ]
}